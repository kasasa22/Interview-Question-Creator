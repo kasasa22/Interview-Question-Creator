{
 "cells": [
  {
   "cell_type": "code",
   "execution_count": 7,
   "metadata": {},
   "outputs": [
    {
     "name": "stdout",
     "output_type": "stream",
     "text": [
      "ok\n"
     ]
    }
   ],
   "source": [
    "print('ok')"
   ]
  },
  {
   "cell_type": "code",
   "execution_count": 13,
   "metadata": {},
   "outputs": [],
   "source": [
    "import os\n",
    "from dotenv import load_dotenv\n"
   ]
  },
  {
   "cell_type": "code",
   "execution_count": 14,
   "metadata": {},
   "outputs": [],
   "source": [
    "load_dotenv()\n",
    "OPENAI_API_KEY = os.getenv('OPENAI_API_KEY')\n"
   ]
  },
  {
   "cell_type": "code",
   "execution_count": 15,
   "metadata": {},
   "outputs": [],
   "source": [
    "os.environ[\"OPENAI_API_KEY\"] = OPENAI_API_KEY"
   ]
  },
  {
   "cell_type": "code",
   "execution_count": 19,
   "metadata": {},
   "outputs": [
    {
     "name": "stdout",
     "output_type": "stream",
     "text": [
      "c:\\Users\\x1carbon\\Desktop\\Projects\\Interview-Question-Creator\n"
     ]
    }
   ],
   "source": [
    "%cd ..\n",
    "from langchain.document_loaders import PyPDFLoader\n",
    "filepath = \"data/stats.pdf\"\n",
    "\n",
    "loader = PyPDFLoader(filepath)\n",
    "data = loader.load()\n"
   ]
  },
  {
   "cell_type": "code",
   "execution_count": 20,
   "metadata": {},
   "outputs": [
    {
     "data": {
      "text/plain": [
       "[Document(metadata={'producer': 'Skia/PDF m120 Google Docs Renderer', 'creator': 'PyPDF', 'creationdate': '', 'title': 'Report - Importance and the use of correlation in Statistics', 'source': 'data/stats.pdf', 'total_pages': 3, 'page': 0, 'page_label': '1'}, page_content='ImportanceandtheuseofcorrelationinStatistics\\nIntroduction\\nCorrelationisastatistical measurethat expressestheextent towhichtwovariablesarelinearlyrelated. It isacommontool fordescribingsimplerelationshipswithout makingastatement about causeandeffect.Correlationcoefficientsrangefrom-1to1, withavalueof 0indicatingnolinearrelationshipbetweenthetwovariables, avalueof 1indicatingaperfect positivelinearrelationship, andavalueof -1indicatingaperfectnegativelinearrelationship.\\nCorrelationisimportantinstatisticsbecauseitcanbeusedto\\n1. Identifyrelationshipsbetweenvariables:Correlationcanbeusedtoidentifywhetherthereisarelationshipbetweentwovariables, andif so, whethertherelationshipispositiveornegative. Thisinformationcanbeuseful forunderstandingtherelationshipsbetweendifferent factorsinacomplexsystem.\\n2. Makepredictions:If thereisastrongcorrelationbetweentwovariables, it ispossibletousethevalueof onevariabletopredictthevalueof theothervariable. Thiscanbeuseful formakingpredictionsinavarietyof fields, suchasbusiness, finance, andmedicine.\\n3. Developcausalmodels:Correlationcanbeusedasastartingpoint fordevelopingcausal models, whicharemodelsthatdescribehowchangesinonevariablecausechangesinothervariables. Causal modelscanbeusedtomakemoreaccuratepredictionsandtodevelopinterventionstochangethevaluesofspecificvariables.'),\n",
       " Document(metadata={'producer': 'Skia/PDF m120 Google Docs Renderer', 'creator': 'PyPDF', 'creationdate': '', 'title': 'Report - Importance and the use of correlation in Statistics', 'source': 'data/stats.pdf', 'total_pages': 3, 'page': 1, 'page_label': '2'}, page_content='Correlationisusedinawidevarietyoffieldsincluding\\n1. Business:Correlationcanbeusedtoidentifyrelationshipsbetweendifferent businessvariables, suchassales, advertisingspending, andcustomersatisfaction. Thisinformationcanbeusedtomakebetterbusinessdecisions, suchashowtoallocatemarketingresources.\\n2. Finance:Correlationcanbeusedtoidentifyrelationshipsbetweendifferent financial assets, suchasstocks, bonds, andcommodities.Thisinformationcanbeusedtobuilddiversifiedportfoliosthatreducerisk.\\n3. Medicine:Correlationcanbeusedtoidentifyrelationshipsbetweendifferent medical variables, suchasriskfactorsfordiseasesandtheeffectivenessof treatments. Thisinformationcanbeusedtoimprovetheprevention, diagnosis, andtreatment ofdiseases.\\n4. Psychology:Correlationcanbeusedtoidentifyrelationshipsbetweendifferent psychological variables, suchaspersonalitytraits, cognitiveabilities, andmental disorders. Thisinformationcanbeusedtodevelopbetterpsychological assessmentsandtreatments.\\nHowcorrelationisusedintherealworld\\n1. Amarketingmanagermight usecorrelationtoidentifytherelationshipbetweenadvertisingspendingandsales. Thisinformationcouldbeusedtodecidehowmuchmoneytoallocatetoadvertising.\\n2. Afinancial analyst might usecorrelationtoidentifytherelationshipbetweenthereturnsof different stocks. Thisinformationcouldbe'),\n",
       " Document(metadata={'producer': 'Skia/PDF m120 Google Docs Renderer', 'creator': 'PyPDF', 'creationdate': '', 'title': 'Report - Importance and the use of correlation in Statistics', 'source': 'data/stats.pdf', 'total_pages': 3, 'page': 2, 'page_label': '3'}, page_content='usedtobuildaportfolioof stocksthat isdiversifiedandhasaloweroverall risk.\\n3. Amedical researchermight usecorrelationtoidentifytherelationshipbetweensmokingandlungcancer. Thisinformationcouldbeusedtodeveloppublichealthcampaignstodiscouragesmoking.\\n4. Apsychologist might usecorrelationtoidentifytherelationshipbetweenanxietyanddepression. Thisinformationcouldbeusedtodevelopmoreeffectivetreatmentsforanxietyanddepression.\\nConclusion\\nItisimportanttonotethatcorrelationdoesnotequalcausation.Justbecausetwovariablesarecorrelateddoesnotmeanthatonevariablecausestheother. Forexample,thereisastrongcorrelationbetweenicecreamsalesandsharkattacks.However, thisdoesnotmeanthateatingicecreamcausessharkattacks.Instead,thereislikelyathirdvariable,suchashotweather, thatcausesbothicecreamsalesandsharkattackstoincrease.\\nOverall,correlationisapowerfulstatisticaltoolthatcanbeusedtoidentifyrelationshipsbetweenvariables,makepredictions,anddevelopcausalmodels.Itisusedinawidevarietyoffieldstomakebetterdecisionsandimproveoutcomes.')]"
      ]
     },
     "execution_count": 20,
     "metadata": {},
     "output_type": "execute_result"
    }
   ],
   "source": [
    "data"
   ]
  },
  {
   "cell_type": "code",
   "execution_count": 21,
   "metadata": {},
   "outputs": [
    {
     "data": {
      "text/plain": [
       "3"
      ]
     },
     "execution_count": 21,
     "metadata": {},
     "output_type": "execute_result"
    }
   ],
   "source": [
    "len(data)  # 1 document"
   ]
  },
  {
   "cell_type": "code",
   "execution_count": 22,
   "metadata": {},
   "outputs": [],
   "source": [
    "question_gen = \"\"\n",
    "\n",
    "for page in data:\n",
    "    question_gen += page.page_content"
   ]
  },
  {
   "cell_type": "code",
   "execution_count": 23,
   "metadata": {},
   "outputs": [
    {
     "data": {
      "text/plain": [
       "'ImportanceandtheuseofcorrelationinStatistics\\nIntroduction\\nCorrelationisastatistical measurethat expressestheextent towhichtwovariablesarelinearlyrelated. It isacommontool fordescribingsimplerelationshipswithout makingastatement about causeandeffect.Correlationcoefficientsrangefrom-1to1, withavalueof 0indicatingnolinearrelationshipbetweenthetwovariables, avalueof 1indicatingaperfect positivelinearrelationship, andavalueof -1indicatingaperfectnegativelinearrelationship.\\nCorrelationisimportantinstatisticsbecauseitcanbeusedto\\n1. Identifyrelationshipsbetweenvariables:Correlationcanbeusedtoidentifywhetherthereisarelationshipbetweentwovariables, andif so, whethertherelationshipispositiveornegative. Thisinformationcanbeuseful forunderstandingtherelationshipsbetweendifferent factorsinacomplexsystem.\\n2. Makepredictions:If thereisastrongcorrelationbetweentwovariables, it ispossibletousethevalueof onevariabletopredictthevalueof theothervariable. Thiscanbeuseful formakingpredictionsinavarietyof fields, suchasbusiness, finance, andmedicine.\\n3. Developcausalmodels:Correlationcanbeusedasastartingpoint fordevelopingcausal models, whicharemodelsthatdescribehowchangesinonevariablecausechangesinothervariables. Causal modelscanbeusedtomakemoreaccuratepredictionsandtodevelopinterventionstochangethevaluesofspecificvariables.Correlationisusedinawidevarietyoffieldsincluding\\n1. Business:Correlationcanbeusedtoidentifyrelationshipsbetweendifferent businessvariables, suchassales, advertisingspending, andcustomersatisfaction. Thisinformationcanbeusedtomakebetterbusinessdecisions, suchashowtoallocatemarketingresources.\\n2. Finance:Correlationcanbeusedtoidentifyrelationshipsbetweendifferent financial assets, suchasstocks, bonds, andcommodities.Thisinformationcanbeusedtobuilddiversifiedportfoliosthatreducerisk.\\n3. Medicine:Correlationcanbeusedtoidentifyrelationshipsbetweendifferent medical variables, suchasriskfactorsfordiseasesandtheeffectivenessof treatments. Thisinformationcanbeusedtoimprovetheprevention, diagnosis, andtreatment ofdiseases.\\n4. Psychology:Correlationcanbeusedtoidentifyrelationshipsbetweendifferent psychological variables, suchaspersonalitytraits, cognitiveabilities, andmental disorders. Thisinformationcanbeusedtodevelopbetterpsychological assessmentsandtreatments.\\nHowcorrelationisusedintherealworld\\n1. Amarketingmanagermight usecorrelationtoidentifytherelationshipbetweenadvertisingspendingandsales. Thisinformationcouldbeusedtodecidehowmuchmoneytoallocatetoadvertising.\\n2. Afinancial analyst might usecorrelationtoidentifytherelationshipbetweenthereturnsof different stocks. Thisinformationcouldbeusedtobuildaportfolioof stocksthat isdiversifiedandhasaloweroverall risk.\\n3. Amedical researchermight usecorrelationtoidentifytherelationshipbetweensmokingandlungcancer. Thisinformationcouldbeusedtodeveloppublichealthcampaignstodiscouragesmoking.\\n4. Apsychologist might usecorrelationtoidentifytherelationshipbetweenanxietyanddepression. Thisinformationcouldbeusedtodevelopmoreeffectivetreatmentsforanxietyanddepression.\\nConclusion\\nItisimportanttonotethatcorrelationdoesnotequalcausation.Justbecausetwovariablesarecorrelateddoesnotmeanthatonevariablecausestheother. Forexample,thereisastrongcorrelationbetweenicecreamsalesandsharkattacks.However, thisdoesnotmeanthateatingicecreamcausessharkattacks.Instead,thereislikelyathirdvariable,suchashotweather, thatcausesbothicecreamsalesandsharkattackstoincrease.\\nOverall,correlationisapowerfulstatisticaltoolthatcanbeusedtoidentifyrelationshipsbetweenvariables,makepredictions,anddevelopcausalmodels.Itisusedinawidevarietyoffieldstomakebetterdecisionsandimproveoutcomes.'"
      ]
     },
     "execution_count": 23,
     "metadata": {},
     "output_type": "execute_result"
    }
   ],
   "source": [
    "question_gen "
   ]
  },
  {
   "cell_type": "code",
   "execution_count": 24,
   "metadata": {},
   "outputs": [],
   "source": [
    "from langchain.text_splitter import TokenTextSplitter"
   ]
  },
  {
   "cell_type": "code",
   "execution_count": 25,
   "metadata": {},
   "outputs": [],
   "source": [
    "splitter_ques_gen = TokenTextSplitter(\n",
    "    model_name=\"gpt-3.5-turbo\",\n",
    "    chunk_size=1000,\n",
    "      chunk_overlap=200)"
   ]
  },
  {
   "cell_type": "code",
   "execution_count": 26,
   "metadata": {},
   "outputs": [],
   "source": [
    "chunk_ques_gen = splitter_ques_gen.split_text(question_gen)\n"
   ]
  },
  {
   "cell_type": "code",
   "execution_count": 28,
   "metadata": {},
   "outputs": [
    {
     "data": {
      "text/plain": [
       "1"
      ]
     },
     "execution_count": 28,
     "metadata": {},
     "output_type": "execute_result"
    }
   ],
   "source": [
    "len(chunk_ques_gen)  # 1 chunk"
   ]
  },
  {
   "cell_type": "code",
   "execution_count": 29,
   "metadata": {},
   "outputs": [
    {
     "data": {
      "text/plain": [
       "list"
      ]
     },
     "execution_count": 29,
     "metadata": {},
     "output_type": "execute_result"
    }
   ],
   "source": [
    "type(chunk_ques_gen) "
   ]
  },
  {
   "cell_type": "code",
   "execution_count": 30,
   "metadata": {},
   "outputs": [
    {
     "data": {
      "text/plain": [
       "str"
      ]
     },
     "execution_count": 30,
     "metadata": {},
     "output_type": "execute_result"
    }
   ],
   "source": [
    "type(chunk_ques_gen[0])"
   ]
  },
  {
   "cell_type": "code",
   "execution_count": 35,
   "metadata": {},
   "outputs": [],
   "source": [
    "from langchain.docstore.document import Document\n",
    "document_ques_gen = [Document(page_content=t) for t in chunk_ques_gen if t]\n"
   ]
  },
  {
   "cell_type": "code",
   "execution_count": 37,
   "metadata": {},
   "outputs": [
    {
     "data": {
      "text/plain": [
       "[Document(metadata={}, page_content='ImportanceandtheuseofcorrelationinStatistics\\nIntroduction\\nCorrelationisastatistical measurethat expressestheextent towhichtwovariablesarelinearlyrelated. It isacommontool fordescribingsimplerelationshipswithout makingastatement about causeandeffect.Correlationcoefficientsrangefrom-1to1, withavalueof 0indicatingnolinearrelationshipbetweenthetwovariables, avalueof 1indicatingaperfect positivelinearrelationship, andavalueof -1indicatingaperfectnegativelinearrelationship.\\nCorrelationisimportantinstatisticsbecauseitcanbeusedto\\n1. Identifyrelationshipsbetweenvariables:Correlationcanbeusedtoidentifywhetherthereisarelationshipbetweentwovariables, andif so, whethertherelationshipispositiveornegative. Thisinformationcanbeuseful forunderstandingtherelationshipsbetweendifferent factorsinacomplexsystem.\\n2. Makepredictions:If thereisastrongcorrelationbetweentwovariables, it ispossibletousethevalueof onevariabletopredictthevalueof theothervariable. Thiscanbeuseful formakingpredictionsinavarietyof fields, suchasbusiness, finance, andmedicine.\\n3. Developcausalmodels:Correlationcanbeusedasastartingpoint fordevelopingcausal models, whicharemodelsthatdescribehowchangesinonevariablecausechangesinothervariables. Causal modelscanbeusedtomakemoreaccuratepredictionsandtodevelopinterventionstochangethevaluesofspecificvariables.Correlationisusedinawidevarietyoffieldsincluding\\n1. Business:Correlationcanbeusedtoidentifyrelationshipsbetweendifferent businessvariables, suchassales, advertisingspending, andcustomersatisfaction. Thisinformationcanbeusedtomakebetterbusinessdecisions, suchashowtoallocatemarketingresources.\\n2. Finance:Correlationcanbeusedtoidentifyrelationshipsbetweendifferent financial assets, suchasstocks, bonds, andcommodities.Thisinformationcanbeusedtobuilddiversifiedportfoliosthatreducerisk.\\n3. Medicine:Correlationcanbeusedtoidentifyrelationshipsbetweendifferent medical variables, suchasriskfactorsfordiseasesandtheeffectivenessof treatments. Thisinformationcanbeusedtoimprovetheprevention, diagnosis, andtreatment ofdiseases.\\n4. Psychology:Correlationcanbeusedtoidentifyrelationshipsbetweendifferent psychological variables, suchaspersonalitytraits, cognitiveabilities, andmental disorders. Thisinformationcanbeusedtodevelopbetterpsychological assessmentsandtreatments.\\nHowcorrelationisusedintherealworld\\n1. Amarketingmanagermight usecorrelationtoidentifytherelationshipbetweenadvertisingspendingandsales. Thisinformationcouldbeusedtodecidehowmuchmoneytoallocatetoadvertising.\\n2. Afinancial analyst might usecorrelationtoidentifytherelationshipbetweenthereturnsof different stocks. Thisinformationcouldbeusedtobuildaportfolioof stocksthat isdiversifiedandhasaloweroverall risk.\\n3. Amedical researchermight usecorrelationtoidentifytherelationshipbetweensmokingandlungcancer. Thisinformationcouldbeusedtodeveloppublichealthcampaignstodiscouragesmoking.\\n4. Apsychologist might usecorrelationtoidentifytherelationshipbetweenanxietyanddepression. Thisinformationcouldbeusedtodevelopmoreeffectivetreatmentsforanxietyanddepression.\\nConclusion\\nItisimportanttonotethatcorrelationdoesnotequalcausation.Justbecausetwovariablesarecorrelateddoesnotmeanthatonevariablecausestheother. Forexample,thereisastrongcorrelationbetweenicecreamsalesandsharkattacks.However, thisdoesnotmeanthateatingicecreamcausessharkattacks.Instead,thereislikelyathirdvariable,suchashotweather, thatcausesbothicecreamsalesandsharkattackstoincrease.\\nOverall,correlationisapowerfulstatisticaltoolthatcanbeusedtoidentifyrelationshipsbetweenvariables,makepredictions,anddevelopcausalmodels.Itisusedinawidevarietyoffieldstomakebetterdecisionsandimproveoutcomes.')]"
      ]
     },
     "execution_count": 37,
     "metadata": {},
     "output_type": "execute_result"
    }
   ],
   "source": [
    "document_ques_gen\n"
   ]
  },
  {
   "cell_type": "code",
   "execution_count": 39,
   "metadata": {},
   "outputs": [
    {
     "data": {
      "text/plain": [
       "langchain_core.documents.base.Document"
      ]
     },
     "execution_count": 39,
     "metadata": {},
     "output_type": "execute_result"
    }
   ],
   "source": [
    "type(document_ques_gen[0])"
   ]
  },
  {
   "cell_type": "code",
   "execution_count": null,
   "metadata": {},
   "outputs": [],
   "source": []
  }
 ],
 "metadata": {
  "kernelspec": {
   "display_name": "interview",
   "language": "python",
   "name": "python3"
  },
  "language_info": {
   "codemirror_mode": {
    "name": "ipython",
    "version": 3
   },
   "file_extension": ".py",
   "mimetype": "text/x-python",
   "name": "python",
   "nbconvert_exporter": "python",
   "pygments_lexer": "ipython3",
   "version": "3.10.16"
  }
 },
 "nbformat": 4,
 "nbformat_minor": 2
}
